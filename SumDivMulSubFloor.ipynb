{
  "nbformat": 4,
  "nbformat_minor": 0,
  "metadata": {
    "colab": {
      "provenance": [],
      "authorship_tag": "ABX9TyNo4VO3UOvC/KEofxt3yb5n",
      "include_colab_link": true
    },
    "kernelspec": {
      "name": "python3",
      "display_name": "Python 3"
    },
    "language_info": {
      "name": "python"
    }
  },
  "cells": [
    {
      "cell_type": "markdown",
      "metadata": {
        "id": "view-in-github",
        "colab_type": "text"
      },
      "source": [
        "<a href=\"https://colab.research.google.com/github/hkhasan121/Python/blob/main/SumDivMulSubFloor.ipynb\" target=\"_parent\"><img src=\"https://colab.research.google.com/assets/colab-badge.svg\" alt=\"Open In Colab\"/></a>"
      ]
    },
    {
      "cell_type": "code",
      "execution_count": null,
      "metadata": {
        "colab": {
          "base_uri": "https://localhost:8080/"
        },
        "id": "nQauIEsxdaO3",
        "outputId": "f47e587c-6e33-4259-8c41-10718cab6e2e"
      },
      "outputs": [
        {
          "output_type": "stream",
          "name": "stdout",
          "text": [
            "Enter first number: 4\n",
            "Enter second number: 2\n",
            "Sum:  6\n",
            "Sub:  2\n",
            "Div:  2.0\n",
            "Mod:  0\n",
            "Floor: 2\n",
            "4 ^ 2 :  16\n"
          ]
        }
      ],
      "source": [
        "num1 =int(input(\"Enter first number: \"))\n",
        "num2 =int(input(\"Enter second number: \"))\n",
        "\n",
        "sum = num1 + num2\n",
        "print(\"Sum: \",sum)\n",
        "\n",
        "sub = num1 - num2\n",
        "print(\"Sub: \",sub)\n",
        "\n",
        "div = num1 / num2\n",
        "print(\"Div: \",div)\n",
        "\n",
        "Mod = num1 % num2\n",
        "print(\"Mod: \",Mod)\n",
        "\n",
        "floor = num1 // num2\n",
        "print(\"Floor:\",floor)\n",
        "\n",
        "square  = num1 ** num2\n",
        "print(num1,\"^\",num2,\": \",square)"
      ]
    }
  ]
}