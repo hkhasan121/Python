{
  "nbformat": 4,
  "nbformat_minor": 0,
  "metadata": {
    "colab": {
      "provenance": [],
      "authorship_tag": "ABX9TyN5qAYoFF6yQzFXbqsOciR2",
      "include_colab_link": true
    },
    "kernelspec": {
      "name": "python3",
      "display_name": "Python 3"
    },
    "language_info": {
      "name": "python"
    }
  },
  "cells": [
    {
      "cell_type": "markdown",
      "metadata": {
        "id": "view-in-github",
        "colab_type": "text"
      },
      "source": [
        "<a href=\"https://colab.research.google.com/github/hkhasan121/Python/blob/main/firstProgram.ipynb\" target=\"_parent\"><img src=\"https://colab.research.google.com/assets/colab-badge.svg\" alt=\"Open In Colab\"/></a>"
      ]
    },
    {
      "cell_type": "code",
      "source": [
        "name = \"Hasan Sikder\"\n",
        "age = 22\n",
        "cgpa = \"4.00\"\n",
        "print(\"Student name is \" + name)\n",
        "print(\"He is \" , age , \"years old\")\n",
        "print(\"Currently \" + name + \" Styding at Northen University Bangladesh\")\n",
        "print(\"His last semester CGPA is \" + cgpa)"
      ],
      "metadata": {
        "id": "EWV-Q2fZZGup"
      },
      "execution_count": null,
      "outputs": []
    },
    {
      "cell_type": "code",
      "source": [
        "# this is my first python program\n",
        "name = input(\"Enter your name : \")\n",
        "firstNum = 10\n",
        "secondNum = input(\"Enter a number: \")\n",
        "print(firstNum ,\" + \" ,secondNum ,\" : \" , firstNum + int (secondNum) )\n",
        "print(\"Sum : \" , firstNum + int (secondNum))\n",
        "mul = firstNum *int (secondNum)\n",
        "print(firstNum ,\" * \" ,secondNum ,\" : \" ,mul )\n",
        "\n",
        "print(\"Multipication : \" , mul,)\n",
        "print(\"\\n\")\n",
        "print(\"Thank you for using python\")\n",
        "print(name + \", Now you are a python programmer\")\n"
      ],
      "metadata": {
        "id": "Os_-o_Bpcyg7",
        "outputId": "3939f13e-3b24-4e78-c409-c06382a31541",
        "colab": {
          "base_uri": "https://localhost:8080/"
        }
      },
      "execution_count": null,
      "outputs": [
        {
          "output_type": "stream",
          "name": "stdout",
          "text": [
            "Enter your name : 25\n",
            "Enter a number: 15\n",
            "10  +  15  :  25\n",
            "Sum :  25\n",
            "10  *  15  :  150\n",
            "Multipication :  150\n",
            "\n",
            "\n",
            "Thank you for using python\n",
            "25, Now you are a python programmer\n"
          ]
        }
      ]
    },
    {
      "cell_type": "code",
      "source": [
        "num = 10\n",
        "while num < 20:\n",
        "  print(num)\n",
        "  num = num + 4\n",
        "\n",
        "  if num == 18:\n",
        "    break"
      ],
      "metadata": {
        "id": "qJtBh3cm3KHl"
      },
      "execution_count": null,
      "outputs": []
    },
    {
      "cell_type": "code",
      "source": [
        "# Area of triangle\n",
        "base = float(input(\"Enter the base of triangle : \"))\n",
        "height = float(input(\"Enter the height of triangle : \"))\n",
        "area = 0.5 * base * height\n",
        "print(\"Area of triangle is : \" , area)"
      ],
      "metadata": {
        "colab": {
          "base_uri": "https://localhost:8080/"
        },
        "id": "kKMp_Mpgibi2",
        "outputId": "63635aff-1a6f-4926-8a56-c85491e8fa30"
      },
      "execution_count": 3,
      "outputs": [
        {
          "output_type": "stream",
          "name": "stdout",
          "text": [
            "Enter the base of triangle : 5\n",
            "Enter the height of triangle : 5\n",
            "Area of triangle is :  12.5\n"
          ]
        }
      ]
    },
    {
      "cell_type": "code",
      "source": [
        "#Area of Circle\n",
        "radius = float(input(\"Enter the radius of circle : \"))\n",
        "area = 3.14 * radius * radius\n",
        "print(\"Area of circle is : \" , area)"
      ],
      "metadata": {
        "colab": {
          "base_uri": "https://localhost:8080/"
        },
        "id": "JUyUvHymi-AD",
        "outputId": "edd79ec9-edd8-4b30-db0e-ce3617cc9377"
      },
      "execution_count": 5,
      "outputs": [
        {
          "output_type": "stream",
          "name": "stdout",
          "text": [
            "Enter the radius of circle : 8\n",
            "Area of circle is :  200.96\n"
          ]
        }
      ]
    },
    {
      "cell_type": "code",
      "source": [
        "# Find the largest number\n",
        "num1 = int(input(\"Enter the first number : \"))\n",
        "num2 = int(input(\"Enter the second number : \"))\n",
        "num3 = int(input(\"Enter the third number : \"))\n",
        "if num1 > num2 :\n",
        "  if num1 > num3 :\n",
        "    print(\"Largest:\",num1)\n",
        "  else:\n",
        "    print(\"Largest:\",num3)\n",
        "\n",
        "if num2 > num1:\n",
        "  if num2 > num3 :\n",
        "    print(\"Largest:\",num2)\n",
        "  else :\n",
        "    print(\"Largest:\",num3)\n",
        "\n",
        "else:\n",
        "  print(\"Number are equal\")"
      ],
      "metadata": {
        "colab": {
          "base_uri": "https://localhost:8080/"
        },
        "id": "75SjsNs8mGgT",
        "outputId": "6a3a5952-e349-427c-be00-dc448d55da21"
      },
      "execution_count": 12,
      "outputs": [
        {
          "output_type": "stream",
          "name": "stdout",
          "text": [
            "Enter the first number : -100\n",
            "Enter the second number : -25\n",
            "Enter the third number : -658\n",
            "Largest: -25\n"
          ]
        }
      ]
    }
  ]
}