{
  "nbformat": 4,
  "nbformat_minor": 0,
  "metadata": {
    "colab": {
      "provenance": [],
      "authorship_tag": "ABX9TyMb1MLkXdK5FEcxqpsKiTy/",
      "include_colab_link": true
    },
    "kernelspec": {
      "name": "python3",
      "display_name": "Python 3"
    },
    "language_info": {
      "name": "python"
    }
  },
  "cells": [
    {
      "cell_type": "markdown",
      "metadata": {
        "id": "view-in-github",
        "colab_type": "text"
      },
      "source": [
        "<a href=\"https://colab.research.google.com/github/hkhasan121/Python/blob/main/Loop.ipynb\" target=\"_parent\"><img src=\"https://colab.research.google.com/assets/colab-badge.svg\" alt=\"Open In Colab\"/></a>"
      ]
    },
    {
      "cell_type": "code",
      "execution_count": null,
      "metadata": {
        "id": "nE2jVX415GUs",
        "colab": {
          "base_uri": "https://localhost:8080/"
        },
        "outputId": "1a15f706-bb8f-4fb9-83cf-da75480cedbc"
      },
      "outputs": [
        {
          "output_type": "stream",
          "name": "stdout",
          "text": [
            "1 .Tithi is a good girl\n",
            "2 .Tithi is a good girl\n",
            "3 .Tithi is a good girl\n",
            "4 .Tithi is a good girl\n",
            "5 .Tithi is a good girl\n",
            "6 .Tithi is a good girl\n",
            "7 .Tithi is a good girl\n",
            "8 .Tithi is a good girl\n",
            "9 .Tithi is a good girl\n",
            "10 .Tithi is a good girl\n"
          ]
        }
      ],
      "source": [
        "# introducing Loop\n",
        "\n",
        "i = 1\n",
        "while i <= 10 :\n",
        "  print(i,\".Tithi is a good girl\")\n",
        "  i = i + 1\n"
      ]
    },
    {
      "cell_type": "code",
      "source": [
        "# sum of n numbers\n",
        "\n",
        "sum = 0\n",
        "i = 1\n",
        "while i<=10:\n",
        "  sum = sum + i\n",
        "  i = i + 1\n",
        "\n",
        "print(sum)"
      ],
      "metadata": {
        "colab": {
          "base_uri": "https://localhost:8080/"
        },
        "id": "P8eCa92K96O_",
        "outputId": "4b208b01-b2fb-4613-b81d-01f38558c2bf"
      },
      "execution_count": null,
      "outputs": [
        {
          "output_type": "stream",
          "name": "stdout",
          "text": [
            "55\n",
            "110\n"
          ]
        }
      ]
    },
    {
      "cell_type": "code",
      "source": [
        "# print even number\n",
        "print(\"Welcome to the python world\")\n",
        "num = int(input(\"Enter a number: \"))\n",
        "i = 2\n",
        "print(\"Even number: \",end = \" \")\n",
        "while i<=num:\n",
        "  print(i,end = \" \")\n",
        "  i = i + 2\n"
      ],
      "metadata": {
        "id": "ssSvJeAAnmsO"
      },
      "execution_count": null,
      "outputs": []
    },
    {
      "cell_type": "code",
      "source": [
        "# check even or odd\n",
        "num = int(input(\"Enter a number: \"))\n",
        "if num % 2 == 0:\n",
        "  print( num,\"is even Number\")\n",
        "else:\n",
        "  print(num,\"is odd number\")"
      ],
      "metadata": {
        "id": "DuD3FC4Bpl1Y"
      },
      "execution_count": null,
      "outputs": []
    },
    {
      "cell_type": "code",
      "source": [
        "arr = [10,20,30,40,50]\n",
        "n = len(arr)\n",
        "print(\"Length of array is:\",n)\n",
        "\"\"\"\n",
        "index = 0\n",
        "while index < n :\n",
        "  print(arr[index],end = \" \")\n",
        "  index = index + 1\n",
        "\n",
        "print(\"\\n\")\n",
        "\"\"\"\n",
        "print(\"Array : \",end = \"\")\n",
        "for x in arr :\n",
        "  print(x,end = \" \")"
      ],
      "metadata": {
        "colab": {
          "base_uri": "https://localhost:8080/"
        },
        "id": "kKBotOFVbki1",
        "outputId": "57465654-e393-46c9-fa2f-da25e7c5a130"
      },
      "execution_count": null,
      "outputs": [
        {
          "output_type": "stream",
          "name": "stdout",
          "text": [
            "Length of array is: 5\n",
            "Array : 10 20 30 40 50 "
          ]
        }
      ]
    },
    {
      "cell_type": "code",
      "source": [
        "# 1+2+3+4+5+n\n",
        "num = int(input(\"Enter the last number: \"))\n",
        "sum = 0\n",
        "for x in range(1,num+1,1):\n",
        "  sum = sum + x\n",
        "print(\"Sum of numbers : \",sum)"
      ],
      "metadata": {
        "colab": {
          "base_uri": "https://localhost:8080/"
        },
        "id": "ehhp-Z7yLhVG",
        "outputId": "49583b7a-7920-4e97-bb75-283bede15f1c"
      },
      "execution_count": 1,
      "outputs": [
        {
          "output_type": "stream",
          "name": "stdout",
          "text": [
            "Enter the last number: 5\n",
            "Sum of numbers :  15\n"
          ]
        }
      ]
    },
    {
      "cell_type": "code",
      "source": [
        "# 2+4+6+8+10+n\n",
        "num = int(input(\"Enter the last number: \"))\n",
        "sum = 0\n",
        "for x in range(2,num+1,2):\n",
        "  sum = sum + x\n",
        "print(\"Sum of even numbers : \",sum)"
      ],
      "metadata": {
        "colab": {
          "base_uri": "https://localhost:8080/"
        },
        "id": "9rr39WXxMM32",
        "outputId": "1e07ab1d-ff69-46a2-f431-06f9e7f76e32"
      },
      "execution_count": 2,
      "outputs": [
        {
          "output_type": "stream",
          "name": "stdout",
          "text": [
            "Enter the last number: 5\n",
            "Sum of even numbers :  6\n"
          ]
        }
      ]
    }
  ]
}