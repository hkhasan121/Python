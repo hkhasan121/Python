{
  "nbformat": 4,
  "nbformat_minor": 0,
  "metadata": {
    "colab": {
      "provenance": [],
      "authorship_tag": "ABX9TyMwu/rPS2evKifk1SsRTPa+",
      "include_colab_link": true
    },
    "kernelspec": {
      "name": "python3",
      "display_name": "Python 3"
    },
    "language_info": {
      "name": "python"
    }
  },
  "cells": [
    {
      "cell_type": "markdown",
      "metadata": {
        "id": "view-in-github",
        "colab_type": "text"
      },
      "source": [
        "<a href=\"https://colab.research.google.com/github/hkhasan121/Python/blob/main/Loop.ipynb\" target=\"_parent\"><img src=\"https://colab.research.google.com/assets/colab-badge.svg\" alt=\"Open In Colab\"/></a>"
      ]
    },
    {
      "cell_type": "code",
      "execution_count": 9,
      "metadata": {
        "id": "nE2jVX415GUs",
        "colab": {
          "base_uri": "https://localhost:8080/"
        },
        "outputId": "1a15f706-bb8f-4fb9-83cf-da75480cedbc"
      },
      "outputs": [
        {
          "output_type": "stream",
          "name": "stdout",
          "text": [
            "1 .Tithi is a good girl\n",
            "2 .Tithi is a good girl\n",
            "3 .Tithi is a good girl\n",
            "4 .Tithi is a good girl\n",
            "5 .Tithi is a good girl\n",
            "6 .Tithi is a good girl\n",
            "7 .Tithi is a good girl\n",
            "8 .Tithi is a good girl\n",
            "9 .Tithi is a good girl\n",
            "10 .Tithi is a good girl\n"
          ]
        }
      ],
      "source": [
        "# introducing Loop\n",
        "\n",
        "i = 1\n",
        "while i <= 10 :\n",
        "  print(i,\".Tithi is a good girl\")\n",
        "  i = i + 1\n"
      ]
    },
    {
      "cell_type": "code",
      "source": [
        "# sum of n numbers\n",
        "\n",
        "sum = 0\n",
        "i = 1\n",
        "while i<=10:\n",
        "  sum = sum + i\n",
        "  i = i + 1\n",
        "\n",
        "print(sum)"
      ],
      "metadata": {
        "colab": {
          "base_uri": "https://localhost:8080/"
        },
        "id": "P8eCa92K96O_",
        "outputId": "7f2d3e28-3116-4f1b-8964-37928f51f922"
      },
      "execution_count": null,
      "outputs": [
        {
          "output_type": "stream",
          "name": "stdout",
          "text": [
            "55\n"
          ]
        }
      ]
    },
    {
      "cell_type": "code",
      "source": [
        "# print even number\n",
        "print(\"Welcome to the python world\")\n",
        "num = int(input(\"Enter a number: \"))\n",
        "i = 2\n",
        "print(\"Even number: \",end = \" \")\n",
        "while i<=num:\n",
        "  print(i,end = \" \")\n",
        "  i = i + 2\n"
      ],
      "metadata": {
        "id": "ssSvJeAAnmsO"
      },
      "execution_count": null,
      "outputs": []
    }
  ]
}